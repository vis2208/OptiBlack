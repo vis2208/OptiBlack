{
 "cells": [
  {
   "cell_type": "code",
   "execution_count": 152,
   "id": "45c83d4b",
   "metadata": {},
   "outputs": [],
   "source": [
    "import pandas as pd\n",
    "import numpy as np\n",
    "import matplotlib.pyplot as plt\n",
    "%matplotlib inline"
   ]
  },
  {
   "cell_type": "code",
   "execution_count": 153,
   "id": "a604b332",
   "metadata": {},
   "outputs": [
    {
     "data": {
      "text/html": [
       "<div>\n",
       "<style scoped>\n",
       "    .dataframe tbody tr th:only-of-type {\n",
       "        vertical-align: middle;\n",
       "    }\n",
       "\n",
       "    .dataframe tbody tr th {\n",
       "        vertical-align: top;\n",
       "    }\n",
       "\n",
       "    .dataframe thead th {\n",
       "        text-align: right;\n",
       "    }\n",
       "</style>\n",
       "<table border=\"1\" class=\"dataframe\">\n",
       "  <thead>\n",
       "    <tr style=\"text-align: right;\">\n",
       "      <th></th>\n",
       "      <th>Customer ID</th>\n",
       "      <th>Gender</th>\n",
       "      <th>Age</th>\n",
       "      <th>Income</th>\n",
       "      <th>Transaction Count</th>\n",
       "      <th>Last Transaction Date</th>\n",
       "      <th>Customer Support Interactions</th>\n",
       "      <th>Order Fulfilment Rate</th>\n",
       "      <th>Churn</th>\n",
       "    </tr>\n",
       "  </thead>\n",
       "  <tbody>\n",
       "    <tr>\n",
       "      <th>0</th>\n",
       "      <td>1</td>\n",
       "      <td>Male</td>\n",
       "      <td>35</td>\n",
       "      <td>75000</td>\n",
       "      <td>10</td>\n",
       "      <td>2022-12-31</td>\n",
       "      <td>2</td>\n",
       "      <td>80.0</td>\n",
       "      <td>0</td>\n",
       "    </tr>\n",
       "    <tr>\n",
       "      <th>1</th>\n",
       "      <td>2</td>\n",
       "      <td>Female</td>\n",
       "      <td>45</td>\n",
       "      <td>90000</td>\n",
       "      <td>20</td>\n",
       "      <td>2023-02-28</td>\n",
       "      <td>3</td>\n",
       "      <td>95.0</td>\n",
       "      <td>0</td>\n",
       "    </tr>\n",
       "    <tr>\n",
       "      <th>2</th>\n",
       "      <td>3</td>\n",
       "      <td>Male</td>\n",
       "      <td>28</td>\n",
       "      <td>40000</td>\n",
       "      <td>5</td>\n",
       "      <td>2022-11-15</td>\n",
       "      <td>1</td>\n",
       "      <td>60.0</td>\n",
       "      <td>1</td>\n",
       "    </tr>\n",
       "    <tr>\n",
       "      <th>3</th>\n",
       "      <td>4</td>\n",
       "      <td>Female</td>\n",
       "      <td>50</td>\n",
       "      <td>120000</td>\n",
       "      <td>15</td>\n",
       "      <td>2023-03-31</td>\n",
       "      <td>0</td>\n",
       "      <td>100.0</td>\n",
       "      <td>0</td>\n",
       "    </tr>\n",
       "    <tr>\n",
       "      <th>4</th>\n",
       "      <td>5</td>\n",
       "      <td>Male</td>\n",
       "      <td>60</td>\n",
       "      <td>80000</td>\n",
       "      <td>25</td>\n",
       "      <td>2023-01-31</td>\n",
       "      <td>5</td>\n",
       "      <td>75.0</td>\n",
       "      <td>1</td>\n",
       "    </tr>\n",
       "  </tbody>\n",
       "</table>\n",
       "</div>"
      ],
      "text/plain": [
       "   Customer ID  Gender  Age  Income  Transaction Count Last Transaction Date  \\\n",
       "0            1    Male   35   75000                 10            2022-12-31   \n",
       "1            2  Female   45   90000                 20            2023-02-28   \n",
       "2            3    Male   28   40000                  5            2022-11-15   \n",
       "3            4  Female   50  120000                 15            2023-03-31   \n",
       "4            5    Male   60   80000                 25            2023-01-31   \n",
       "\n",
       "   Customer Support Interactions  Order Fulfilment Rate  Churn  \n",
       "0                              2                   80.0      0  \n",
       "1                              3                   95.0      0  \n",
       "2                              1                   60.0      1  \n",
       "3                              0                  100.0      0  \n",
       "4                              5                   75.0      1  "
      ]
     },
     "execution_count": 153,
     "metadata": {},
     "output_type": "execute_result"
    }
   ],
   "source": [
    "df = pd.read_excel(\"Customers.xlsx\")\n",
    "df.head(5)"
   ]
  },
  {
   "cell_type": "markdown",
   "id": "88a824b1",
   "metadata": {},
   "source": [
    "## Data Cleaning"
   ]
  },
  {
   "cell_type": "code",
   "execution_count": 154,
   "id": "7faed96d",
   "metadata": {},
   "outputs": [
    {
     "data": {
      "text/plain": [
       "array(['Male', 'Female', ' Male   ', ' Female '], dtype=object)"
      ]
     },
     "execution_count": 154,
     "metadata": {},
     "output_type": "execute_result"
    }
   ],
   "source": [
    "df['Gender'].unique() # Gender Column have whitespace"
   ]
  },
  {
   "cell_type": "code",
   "execution_count": 155,
   "id": "4eea2254",
   "metadata": {},
   "outputs": [],
   "source": [
    "df['Gender'] = df['Gender'].str.strip() # Removed whitespace"
   ]
  },
  {
   "cell_type": "code",
   "execution_count": 156,
   "id": "0f96224d",
   "metadata": {},
   "outputs": [
    {
     "data": {
      "text/plain": [
       "array(['Male', 'Female'], dtype=object)"
      ]
     },
     "execution_count": 156,
     "metadata": {},
     "output_type": "execute_result"
    }
   ],
   "source": [
    "df['Gender'].unique()"
   ]
  },
  {
   "cell_type": "markdown",
   "id": "9d7e0e92",
   "metadata": {},
   "source": [
    "## Creat New column month and year"
   ]
  },
  {
   "cell_type": "code",
   "execution_count": 157,
   "id": "3c0c985c",
   "metadata": {},
   "outputs": [],
   "source": [
    "df['Year'] = df['Last Transaction Date'].dt.year\n",
    "df['month'] = df['Last Transaction Date'].dt.month"
   ]
  },
  {
   "cell_type": "code",
   "execution_count": 158,
   "id": "6e19920d",
   "metadata": {},
   "outputs": [
    {
     "data": {
      "text/html": [
       "<div>\n",
       "<style scoped>\n",
       "    .dataframe tbody tr th:only-of-type {\n",
       "        vertical-align: middle;\n",
       "    }\n",
       "\n",
       "    .dataframe tbody tr th {\n",
       "        vertical-align: top;\n",
       "    }\n",
       "\n",
       "    .dataframe thead th {\n",
       "        text-align: right;\n",
       "    }\n",
       "</style>\n",
       "<table border=\"1\" class=\"dataframe\">\n",
       "  <thead>\n",
       "    <tr style=\"text-align: right;\">\n",
       "      <th></th>\n",
       "      <th>Customer ID</th>\n",
       "      <th>Gender</th>\n",
       "      <th>Age</th>\n",
       "      <th>Income</th>\n",
       "      <th>Transaction Count</th>\n",
       "      <th>Last Transaction Date</th>\n",
       "      <th>Customer Support Interactions</th>\n",
       "      <th>Order Fulfilment Rate</th>\n",
       "      <th>Churn</th>\n",
       "      <th>Year</th>\n",
       "      <th>month</th>\n",
       "    </tr>\n",
       "  </thead>\n",
       "  <tbody>\n",
       "    <tr>\n",
       "      <th>0</th>\n",
       "      <td>1</td>\n",
       "      <td>Male</td>\n",
       "      <td>35</td>\n",
       "      <td>75000</td>\n",
       "      <td>10</td>\n",
       "      <td>2022-12-31</td>\n",
       "      <td>2</td>\n",
       "      <td>80.0</td>\n",
       "      <td>0</td>\n",
       "      <td>2022</td>\n",
       "      <td>12</td>\n",
       "    </tr>\n",
       "    <tr>\n",
       "      <th>1</th>\n",
       "      <td>2</td>\n",
       "      <td>Female</td>\n",
       "      <td>45</td>\n",
       "      <td>90000</td>\n",
       "      <td>20</td>\n",
       "      <td>2023-02-28</td>\n",
       "      <td>3</td>\n",
       "      <td>95.0</td>\n",
       "      <td>0</td>\n",
       "      <td>2023</td>\n",
       "      <td>2</td>\n",
       "    </tr>\n",
       "    <tr>\n",
       "      <th>2</th>\n",
       "      <td>3</td>\n",
       "      <td>Male</td>\n",
       "      <td>28</td>\n",
       "      <td>40000</td>\n",
       "      <td>5</td>\n",
       "      <td>2022-11-15</td>\n",
       "      <td>1</td>\n",
       "      <td>60.0</td>\n",
       "      <td>1</td>\n",
       "      <td>2022</td>\n",
       "      <td>11</td>\n",
       "    </tr>\n",
       "    <tr>\n",
       "      <th>3</th>\n",
       "      <td>4</td>\n",
       "      <td>Female</td>\n",
       "      <td>50</td>\n",
       "      <td>120000</td>\n",
       "      <td>15</td>\n",
       "      <td>2023-03-31</td>\n",
       "      <td>0</td>\n",
       "      <td>100.0</td>\n",
       "      <td>0</td>\n",
       "      <td>2023</td>\n",
       "      <td>3</td>\n",
       "    </tr>\n",
       "    <tr>\n",
       "      <th>4</th>\n",
       "      <td>5</td>\n",
       "      <td>Male</td>\n",
       "      <td>60</td>\n",
       "      <td>80000</td>\n",
       "      <td>25</td>\n",
       "      <td>2023-01-31</td>\n",
       "      <td>5</td>\n",
       "      <td>75.0</td>\n",
       "      <td>1</td>\n",
       "      <td>2023</td>\n",
       "      <td>1</td>\n",
       "    </tr>\n",
       "  </tbody>\n",
       "</table>\n",
       "</div>"
      ],
      "text/plain": [
       "   Customer ID  Gender  Age  Income  Transaction Count Last Transaction Date  \\\n",
       "0            1    Male   35   75000                 10            2022-12-31   \n",
       "1            2  Female   45   90000                 20            2023-02-28   \n",
       "2            3    Male   28   40000                  5            2022-11-15   \n",
       "3            4  Female   50  120000                 15            2023-03-31   \n",
       "4            5    Male   60   80000                 25            2023-01-31   \n",
       "\n",
       "   Customer Support Interactions  Order Fulfilment Rate  Churn  Year  month  \n",
       "0                              2                   80.0      0  2022     12  \n",
       "1                              3                   95.0      0  2023      2  \n",
       "2                              1                   60.0      1  2022     11  \n",
       "3                              0                  100.0      0  2023      3  \n",
       "4                              5                   75.0      1  2023      1  "
      ]
     },
     "execution_count": 158,
     "metadata": {},
     "output_type": "execute_result"
    }
   ],
   "source": [
    "df.head(5)"
   ]
  },
  {
   "cell_type": "code",
   "execution_count": 159,
   "id": "1e359f1c",
   "metadata": {},
   "outputs": [
    {
     "data": {
      "text/plain": [
       "array([2022, 2023], dtype=int64)"
      ]
     },
     "execution_count": 159,
     "metadata": {},
     "output_type": "execute_result"
    }
   ],
   "source": [
    "df['Year'].unique()"
   ]
  },
  {
   "cell_type": "code",
   "execution_count": 160,
   "id": "5f02adbd",
   "metadata": {},
   "outputs": [
    {
     "data": {
      "text/plain": [
       "array([12,  2, 11,  3,  1, 10,  8,  4], dtype=int64)"
      ]
     },
     "execution_count": 160,
     "metadata": {},
     "output_type": "execute_result"
    }
   ],
   "source": [
    "df['month'].unique()"
   ]
  },
  {
   "cell_type": "code",
   "execution_count": 161,
   "id": "099acd42",
   "metadata": {
    "collapsed": true
   },
   "outputs": [
    {
     "name": "stdout",
     "output_type": "stream",
     "text": [
      "Requirement already satisfied: pandas_profiling in c:\\users\\user\\anaconda3\\lib\\site-packages (3.6.6)\n",
      "Requirement already satisfied: ydata-profiling in c:\\users\\user\\anaconda3\\lib\\site-packages (from pandas_profiling) (4.1.2)\n",
      "Requirement already satisfied: numpy<1.24,>=1.16.0 in c:\\users\\user\\anaconda3\\lib\\site-packages (from ydata-profiling->pandas_profiling) (1.23.5)\n",
      "Requirement already satisfied: visions[type_image_path]==0.7.5 in c:\\users\\user\\anaconda3\\lib\\site-packages (from ydata-profiling->pandas_profiling) (0.7.5)\n",
      "Requirement already satisfied: multimethod<1.10,>=1.4 in c:\\users\\user\\anaconda3\\lib\\site-packages (from ydata-profiling->pandas_profiling) (1.9.1)\n",
      "Requirement already satisfied: pandas!=1.4.0,<1.6,>1.1 in c:\\users\\user\\anaconda3\\lib\\site-packages (from ydata-profiling->pandas_profiling) (1.5.3)\n",
      "Requirement already satisfied: matplotlib<3.7,>=3.2 in c:\\users\\user\\anaconda3\\lib\\site-packages (from ydata-profiling->pandas_profiling) (3.6.3)\n",
      "Requirement already satisfied: phik<0.13,>=0.11.1 in c:\\users\\user\\anaconda3\\lib\\site-packages (from ydata-profiling->pandas_profiling) (0.12.3)\n",
      "Requirement already satisfied: imagehash==4.3.1 in c:\\users\\user\\anaconda3\\lib\\site-packages (from ydata-profiling->pandas_profiling) (4.3.1)\n",
      "Requirement already satisfied: tqdm<4.65,>=4.48.2 in c:\\users\\user\\anaconda3\\lib\\site-packages (from ydata-profiling->pandas_profiling) (4.64.1)\n",
      "Requirement already satisfied: pydantic<1.11,>=1.8.1 in c:\\users\\user\\anaconda3\\lib\\site-packages (from ydata-profiling->pandas_profiling) (1.10.7)\n",
      "Requirement already satisfied: requests<2.29,>=2.24.0 in c:\\users\\user\\anaconda3\\lib\\site-packages (from ydata-profiling->pandas_profiling) (2.28.1)\n",
      "Requirement already satisfied: seaborn<0.13,>=0.10.1 in c:\\users\\user\\anaconda3\\lib\\site-packages (from ydata-profiling->pandas_profiling) (0.12.2)\n",
      "Requirement already satisfied: scipy<1.10,>=1.4.1 in c:\\users\\user\\anaconda3\\lib\\site-packages (from ydata-profiling->pandas_profiling) (1.9.3)\n",
      "Requirement already satisfied: htmlmin==0.1.12 in c:\\users\\user\\anaconda3\\lib\\site-packages (from ydata-profiling->pandas_profiling) (0.1.12)\n",
      "Requirement already satisfied: statsmodels<0.14,>=0.13.2 in c:\\users\\user\\anaconda3\\lib\\site-packages (from ydata-profiling->pandas_profiling) (0.13.5)\n",
      "Requirement already satisfied: PyYAML<6.1,>=5.0.0 in c:\\users\\user\\anaconda3\\lib\\site-packages (from ydata-profiling->pandas_profiling) (6.0)\n",
      "Requirement already satisfied: jinja2<3.2,>=2.11.1 in c:\\users\\user\\anaconda3\\lib\\site-packages (from ydata-profiling->pandas_profiling) (3.1.2)\n",
      "Requirement already satisfied: typeguard<2.14,>=2.13.2 in c:\\users\\user\\anaconda3\\lib\\site-packages (from ydata-profiling->pandas_profiling) (2.13.3)\n",
      "Requirement already satisfied: PyWavelets in c:\\users\\user\\anaconda3\\lib\\site-packages (from imagehash==4.3.1->ydata-profiling->pandas_profiling) (1.4.1)\n",
      "Requirement already satisfied: pillow in c:\\users\\user\\anaconda3\\lib\\site-packages (from imagehash==4.3.1->ydata-profiling->pandas_profiling) (9.4.0)\n",
      "Requirement already satisfied: networkx>=2.4 in c:\\users\\user\\anaconda3\\lib\\site-packages (from visions[type_image_path]==0.7.5->ydata-profiling->pandas_profiling) (2.8.4)\n",
      "Requirement already satisfied: tangled-up-in-unicode>=0.0.4 in c:\\users\\user\\anaconda3\\lib\\site-packages (from visions[type_image_path]==0.7.5->ydata-profiling->pandas_profiling) (0.2.0)\n",
      "Requirement already satisfied: attrs>=19.3.0 in c:\\users\\user\\anaconda3\\lib\\site-packages (from visions[type_image_path]==0.7.5->ydata-profiling->pandas_profiling) (22.1.0)\n",
      "Requirement already satisfied: MarkupSafe>=2.0 in c:\\users\\user\\anaconda3\\lib\\site-packages (from jinja2<3.2,>=2.11.1->ydata-profiling->pandas_profiling) (2.1.1)\n",
      "Requirement already satisfied: pyparsing>=2.2.1 in c:\\users\\user\\anaconda3\\lib\\site-packages (from matplotlib<3.7,>=3.2->ydata-profiling->pandas_profiling) (3.0.9)\n",
      "Requirement already satisfied: python-dateutil>=2.7 in c:\\users\\user\\anaconda3\\lib\\site-packages (from matplotlib<3.7,>=3.2->ydata-profiling->pandas_profiling) (2.8.2)\n",
      "Requirement already satisfied: fonttools>=4.22.0 in c:\\users\\user\\anaconda3\\lib\\site-packages (from matplotlib<3.7,>=3.2->ydata-profiling->pandas_profiling) (4.25.0)\n",
      "Requirement already satisfied: cycler>=0.10 in c:\\users\\user\\anaconda3\\lib\\site-packages (from matplotlib<3.7,>=3.2->ydata-profiling->pandas_profiling) (0.11.0)\n",
      "Requirement already satisfied: contourpy>=1.0.1 in c:\\users\\user\\anaconda3\\lib\\site-packages (from matplotlib<3.7,>=3.2->ydata-profiling->pandas_profiling) (1.0.5)\n",
      "Requirement already satisfied: kiwisolver>=1.0.1 in c:\\users\\user\\anaconda3\\lib\\site-packages (from matplotlib<3.7,>=3.2->ydata-profiling->pandas_profiling) (1.4.4)\n",
      "Requirement already satisfied: packaging>=20.0 in c:\\users\\user\\anaconda3\\lib\\site-packages (from matplotlib<3.7,>=3.2->ydata-profiling->pandas_profiling) (22.0)\n",
      "Requirement already satisfied: pytz>=2020.1 in c:\\users\\user\\anaconda3\\lib\\site-packages (from pandas!=1.4.0,<1.6,>1.1->ydata-profiling->pandas_profiling) (2022.7)\n",
      "Requirement already satisfied: joblib>=0.14.1 in c:\\users\\user\\anaconda3\\lib\\site-packages (from phik<0.13,>=0.11.1->ydata-profiling->pandas_profiling) (1.1.1)\n",
      "Requirement already satisfied: typing-extensions>=4.2.0 in c:\\users\\user\\anaconda3\\lib\\site-packages (from pydantic<1.11,>=1.8.1->ydata-profiling->pandas_profiling) (4.4.0)\n",
      "Requirement already satisfied: charset-normalizer<3,>=2 in c:\\users\\user\\anaconda3\\lib\\site-packages (from requests<2.29,>=2.24.0->ydata-profiling->pandas_profiling) (2.0.4)\n",
      "Requirement already satisfied: urllib3<1.27,>=1.21.1 in c:\\users\\user\\anaconda3\\lib\\site-packages (from requests<2.29,>=2.24.0->ydata-profiling->pandas_profiling) (1.26.14)\n",
      "Requirement already satisfied: idna<4,>=2.5 in c:\\users\\user\\anaconda3\\lib\\site-packages (from requests<2.29,>=2.24.0->ydata-profiling->pandas_profiling) (3.4)\n",
      "Requirement already satisfied: certifi>=2017.4.17 in c:\\users\\user\\anaconda3\\lib\\site-packages (from requests<2.29,>=2.24.0->ydata-profiling->pandas_profiling) (2022.12.7)\n",
      "Requirement already satisfied: patsy>=0.5.2 in c:\\users\\user\\anaconda3\\lib\\site-packages (from statsmodels<0.14,>=0.13.2->ydata-profiling->pandas_profiling) (0.5.3)\n",
      "Requirement already satisfied: colorama in c:\\users\\user\\anaconda3\\lib\\site-packages (from tqdm<4.65,>=4.48.2->ydata-profiling->pandas_profiling) (0.4.6)\n",
      "Requirement already satisfied: six in c:\\users\\user\\anaconda3\\lib\\site-packages (from patsy>=0.5.2->statsmodels<0.14,>=0.13.2->ydata-profiling->pandas_profiling) (1.16.0)\n",
      "Note: you may need to restart the kernel to use updated packages.\n"
     ]
    }
   ],
   "source": [
    "#pip install pandas_profiling"
   ]
  },
  {
   "cell_type": "code",
   "execution_count": 162,
   "id": "f36f7ed4",
   "metadata": {},
   "outputs": [],
   "source": [
    "#import pandas_profiling "
   ]
  },
  {
   "cell_type": "code",
   "execution_count": 163,
   "id": "0a3eb06a",
   "metadata": {},
   "outputs": [],
   "source": [
    "#profile = pandas_profiling.ProfileReport(df)\n",
    "#profile.to_file(output_file=\"analysis.html\")"
   ]
  },
  {
   "cell_type": "markdown",
   "id": "a2a18e4a",
   "metadata": {},
   "source": [
    "# Churn percentage"
   ]
  },
  {
   "cell_type": "code",
   "execution_count": 164,
   "id": "17a40c4a",
   "metadata": {},
   "outputs": [
    {
     "data": {
      "text/plain": [
       "36.52173913043478"
      ]
     },
     "execution_count": 164,
     "metadata": {},
     "output_type": "execute_result"
    }
   ],
   "source": [
    "total_churn_percentage = (len(df[cond1])/len(df['Churn']))*100\n",
    "total_churn_percentage"
   ]
  },
  {
   "cell_type": "code",
   "execution_count": 165,
   "id": "ca54802d",
   "metadata": {},
   "outputs": [],
   "source": [
    "cond2 = df['Gender']=='Male' # when Gender = Male\n",
    "cond3 = df['Gender']=='Female' # when Gender = Female"
   ]
  },
  {
   "cell_type": "code",
   "execution_count": 166,
   "id": "4f7ccf02",
   "metadata": {
    "collapsed": true
   },
   "outputs": [
    {
     "data": {
      "text/plain": [
       "19.130434782608695"
      ]
     },
     "execution_count": 166,
     "metadata": {},
     "output_type": "execute_result"
    }
   ],
   "source": [
    "male_churn_percentage = (len(df[cond1 & cond2])/len(df['Churn']))*100\n",
    "male_churn_percentage  # total percentage of male who get churned"
   ]
  },
  {
   "cell_type": "code",
   "execution_count": 167,
   "id": "f56a0d96",
   "metadata": {},
   "outputs": [
    {
     "data": {
      "text/plain": [
       "17.391304347826086"
      ]
     },
     "execution_count": 167,
     "metadata": {},
     "output_type": "execute_result"
    }
   ],
   "source": [
    "female_churn_percentage = (len(df[cond1 & cond3])/len(df['Churn']))*100\n",
    "female_churn_percentage # total percentage of female who get churned"
   ]
  },
  {
   "cell_type": "code",
   "execution_count": 168,
   "id": "92c9fad5",
   "metadata": {},
   "outputs": [
    {
     "data": {
      "image/png": "[encoded data removed]",
      "text/plain": [
       "<Figure size 640x480 with 1 Axes>"
      ]
     },
     "metadata": {},
     "output_type": "display_data"
    }
   ],
   "source": [
    "# Filter the data for churned customers\n",
    "df_churned = df[df['Churn'] == 1]\n",
    "\n",
    "# Group the data by gender and count the number of churned customers\n",
    "gender_churn_count = df_churned.groupby('Year')['Churn'].count()\n",
    "\n",
    "# Create a bar graph using the gender_churn_count data\n",
    "gender_churn_count.plot(kind='bar', color='purple')\n",
    "\n",
    "# Set the chart title and axis labels\n",
    "plt.title('Churned Customers by Year')\n",
    "plt.xlabel('Year')\n",
    "plt.ylabel('Count of Churned Customers')\n",
    "\n",
    "# Show the plot\n",
    "plt.show()\n"
   ]
  },
  {
   "cell_type": "code",
   "execution_count": 169,
   "id": "4bb6ab5b",
   "metadata": {},
   "outputs": [
    {
     "data": {
      "text/plain": [
       "95.23809523809523"
      ]
     },
     "execution_count": 169,
     "metadata": {},
     "output_type": "execute_result"
    }
   ],
   "source": [
    "df_churned = df[df['Churn'] == 1] # Percentage Customer churned in 2022\n",
    "df_2022 = df_churned[df_churned['Year']== 2022]\n",
    "Percentage_Customer_churned_in_2022 = len(df_2022)/len(df_churned)*100\n",
    "Percentage_Customer_churned_in_2022"
   ]
  },
  {
   "cell_type": "code",
   "execution_count": 170,
   "id": "8c0587e1",
   "metadata": {},
   "outputs": [
    {
     "data": {
      "text/plain": [
       "4.761904761904762"
      ]
     },
     "execution_count": 170,
     "metadata": {},
     "output_type": "execute_result"
    }
   ],
   "source": [
    "df_2023 = df_churned[df_churned['Year']== 2023]\n",
    "Percentage_Customer_churned_in_2023 = len(df_2023)/len(df_churned)*100\n",
    "Percentage_Customer_churned_in_2023"
   ]
  },
  {
   "cell_type": "code",
   "execution_count": 171,
   "id": "99c10a46",
   "metadata": {},
   "outputs": [
    {
     "data": {
      "image/png": "[encoded data removed]",
      "text/plain": [
       "<Figure size 640x480 with 1 Axes>"
      ]
     },
     "metadata": {},
     "output_type": "display_data"
    }
   ],
   "source": [
    "# Filter the data for churned customers in Year 2022\n",
    "cond_churn = df['Churn'] == 1\n",
    "cond_2022 = df['Year'] == 2022\n",
    "df_churned = df[cond_churn & cond_2022 ]\n",
    "\n",
    "# Group the data by gender and count the number of churned customers\n",
    "gender_churn_count = df_churned.groupby('month')['Churn'].count()\n",
    "\n",
    "# Create a bar graph using the gender_churn_count data\n",
    "gender_churn_count.plot(kind='bar', color='purple')\n",
    "\n",
    "# Set the chart title and axis labels\n",
    "plt.title('Churned Customers by Month in 2022')\n",
    "plt.xlabel('Year')\n",
    "plt.ylabel('Count of Churned Customers')\n",
    "\n",
    "# Show the plot\n",
    "plt.show()"
   ]
  },
  {
   "cell_type": "code",
   "execution_count": 172,
   "id": "551c2dd7",
   "metadata": {},
   "outputs": [
    {
     "data": {
      "image/png": "[encoded data removed]",
      "text/plain": [
       "<Figure size 640x480 with 1 Axes>"
      ]
     },
     "metadata": {},
     "output_type": "display_data"
    }
   ],
   "source": [
    "# Filter the data for churned customers in Year 2023\n",
    "cond_churn = df['Churn'] == 1\n",
    "cond_2023 = df['Year'] == 2023\n",
    "df_churned = df[cond_churn & cond_2023 ]\n",
    "\n",
    "# Group the data by gender and count the number of churned customers\n",
    "gender_churn_count = df_churned.groupby('month')['Churn'].count()\n",
    "\n",
    "# Create a bar graph using the gender_churn_count data\n",
    "gender_churn_count.plot(kind='bar', color='purple')\n",
    "\n",
    "# Set the chart title and axis labels\n",
    "plt.title('Churned Customers by Month in 2023')\n",
    "plt.xlabel('Year')\n",
    "plt.ylabel('Count of Churned Customers')\n",
    "\n",
    "# Show the plot\n",
    "plt.show()"
   ]
  },
  {
   "cell_type": "markdown",
   "id": "25be03aa",
   "metadata": {},
   "source": [
    "### INSIGHTS:\n",
    "#### 1.Total percentage of customer got churned is 36.52% in which 19.13%    are male and 17.39% are female.\n",
    "#### 2.Churn percentage of male is more than Female by nearly 2 %.\n",
    "#### 3.Transaction Count & Order Fullfillment rate columns are highly correlated with Churn column which means more Transaction and more order fullfillment rate churns more customers.\n",
    "#### 4. Customer Churn has decrease in 2023 than 2022 by nearly 90%.\n",
    "#### 5. In year 2022, the Customer chured in month of march is maximum."
   ]
  },
  {
   "cell_type": "code",
   "execution_count": null,
   "id": "d2d9b341",
   "metadata": {},
   "outputs": [],
   "source": []
  }
 ],
 "metadata": {
  "kernelspec": {
   "display_name": "Python 3 (ipykernel)",
   "language": "python",
   "name": "python3"
  },
  "language_info": {
   "codemirror_mode": {
    "name": "ipython",
    "version": 3
   },
   "file_extension": ".py",
   "mimetype": "text/x-python",
   "name": "python",
   "nbconvert_exporter": "python",
   "pygments_lexer": "ipython3",
   "version": "3.10.9"
  }
 },
 "nbformat": 4,
 "nbformat_minor": 5
}
